{
 "cells": [
  {
   "cell_type": "markdown",
   "metadata": {},
   "source": [
    "We want to explore what our huggingface dataset:\n",
    "\n",
    "https://huggingface.co/datasets/Nicolas-BZRD/English_French_Songs_Lyrics_Translation_Original/viewer/default/train?row=23&views%5B%5D=train\n",
    "\n",
    "entails and take choice regarding it"
   ]
  },
  {
   "cell_type": "code",
   "execution_count": 2,
   "metadata": {},
   "outputs": [],
   "source": [
    "from Helpers import DataLoader\n",
    "\n",
    "hf_song_ds = \"Nicolas-BZRD/English_French_Songs_Lyrics_Translation_Original\"\n",
    "dl = DataLoader()\n",
    "\n",
    "ds = dl.hf_loader(hf_song_ds)\n",
    "#Use no as split usage\n",
    "train_split = ds['train']\n",
    "df = train_split.to_pandas()"
   ]
  },
  {
   "cell_type": "code",
   "execution_count": 3,
   "metadata": {},
   "outputs": [
    {
     "name": "stdout",
     "output_type": "stream",
     "text": [
      "<class 'pandas.core.frame.DataFrame'>\n",
      "RangeIndex: 99289 entries, 0 to 99288\n",
      "Data columns (total 8 columns):\n",
      " #   Column            Non-Null Count  Dtype  \n",
      "---  ------            --------------  -----  \n",
      " 0   artist_name       99289 non-null  object \n",
      " 1   album_name        99289 non-null  object \n",
      " 2   year              97953 non-null  float64\n",
      " 3   title             99289 non-null  object \n",
      " 4   number            90670 non-null  float64\n",
      " 5   original_version  80811 non-null  object \n",
      " 6   french_version    99289 non-null  object \n",
      " 7   language          80803 non-null  object \n",
      "dtypes: float64(2), object(6)\n",
      "memory usage: 6.1+ MB\n",
      "None\n"
     ]
    }
   ],
   "source": [
    "print(df.info())\n"
   ]
  },
  {
   "cell_type": "code",
   "execution_count": 4,
   "metadata": {},
   "outputs": [
    {
     "name": "stdout",
     "output_type": "stream",
     "text": [
      "count     80803\n",
      "unique       37\n",
      "top          en\n",
      "freq      75786\n",
      "Name: language, dtype: object\n"
     ]
    }
   ],
   "source": [
    "print(df[\"language\"].describe())"
   ]
  },
  {
   "cell_type": "markdown",
   "metadata": {},
   "source": [
    "We take only the english to french songs"
   ]
  },
  {
   "cell_type": "code",
   "execution_count": 5,
   "metadata": {},
   "outputs": [
    {
     "name": "stdout",
     "output_type": "stream",
     "text": [
      "<class 'pandas.core.frame.DataFrame'>\n",
      "Index: 75786 entries, 0 to 99288\n",
      "Data columns (total 2 columns):\n",
      " #   Column            Non-Null Count  Dtype \n",
      "---  ------            --------------  ----- \n",
      " 0   original_version  75786 non-null  object\n",
      " 1   french_version    75786 non-null  object\n",
      "dtypes: object(2)\n",
      "memory usage: 1.7+ MB\n",
      "None\n"
     ]
    }
   ],
   "source": [
    "df = df[df[\"language\"]== 'en'][[\"original_version\", \"french_version\"]]\n",
    "print(df.info())"
   ]
  },
  {
   "cell_type": "code",
   "execution_count": 6,
   "metadata": {},
   "outputs": [
    {
     "name": "stdout",
     "output_type": "stream",
     "text": [
      "chorus\n",
      "Just let me hear some of that rock and roll music\n",
      "Any old way you choose it\n",
      "It's got a back beat, you can't lose it\n",
      "Any old time you use it\n",
      "It's gotta be rock and roll music\n",
      "If you wanna dance with me\n",
      "If you wanna dance with me\n",
      "I've got no kick against modern jazz\n",
      "Unless they try to play it too darn fast\n",
      "And lose the beauty of the melody\n",
      "Until they sound just like a symphony\n",
      "That's why I go for that that rock and roll music\n",
      "Any old way you choose it\n",
      "It's got a back beat, you can't lose it\n",
      "Any old time you use it\n",
      "It's gotta be rock and roll music\n",
      "If you wanna dance with me\n",
      "If you wanna dance with me\n",
      "I took my loved one over across the tracks\n",
      "So she can hear my man awail a sax\n",
      "I must admit they have a rocking band\n",
      "Man, they were blowing like a hurricane\n",
      "That's why I go for that that rock and roll music\n",
      "Any old way you choose it\n",
      "It's got a back beat, you can't lose it\n",
      "Any old time you use it\n",
      "It's gotta be rock and roll music\n",
      "If you wanna dance with me\n",
      "If you wanna dance with me\n",
      "Way down South they had a jubilee\n",
      "The jokey folks they had a jamboree\n",
      "They're drinking home brew from a water cup\n",
      "The folks dancing there are all shook up\n",
      "And started playing that that rock and roll music\n",
      "Any old time you use it\n",
      "It's got a back beat, you can't lose it\n",
      "Any old time you use it\n",
      "It's gotta be rock and roll music\n",
      "If you wanna dance with me\n",
      "If you wanna dance with me\n",
      "Don't care to hear them play a tango\n",
      "And In The Mood they take a mambo\n",
      "It's way to early for a congo\n",
      "So keep a rocking that piano\n"
     ]
    }
   ],
   "source": [
    "print(df[\"original_version\"][0])"
   ]
  },
  {
   "cell_type": "code",
   "execution_count": 7,
   "metadata": {},
   "outputs": [
    {
     "name": "stdout",
     "output_type": "stream",
     "text": [
      "Laisse moi juste écouter un peu de cette musique rock and roll\n",
      "Choisis-la à l'ancienne\n",
      "Il y a un backbeat, tu ne peux le perdre\n",
      "Utilises-le à l'ancienneÇa sera de la musique rock\n",
      "Si tu veux danser avec moi\n",
      "Si tu veux danser avec moi\n",
      "Je n'ai rien contre la musique jazz\n",
      "Tant qu'ils n'essayent pas de la jouer trop rapidement\n",
      "Et perdent la beauté de la mélodie\n",
      "Jusqu'à ce que ça sonne comme une symphonie\n",
      "C'est pour ça que je choisis cette musique rock and roll\n",
      "Choisis-la à l'ancienne\n",
      "Il y a un backbeat, tu ne peux le perdre\n",
      "Utilises-le à l'ancienneÇa sera de la musique rock\n",
      "Si tu veux danser avec moi\n",
      "Si tu veux danser avec moi\n",
      "J'ai emmené ma bien aimée sur la piste\n",
      "Pour qu'elle puisse entendre le saxophoniste\n",
      "Je dois admettre qu'ils ont un groupe de rock\n",
      "Mec, ils défonçaient tout\n",
      "C'est pour ça que je choisis cette musique rock and roll\n",
      "Choisis-la à l'ancienne\n",
      "Il y a un backbeat, tu ne peux le perdre\n",
      "Utilises-le à l'ancienneÇa sera de la musique rock\n",
      "Si tu veux danser avec moi\n",
      "Si tu veux danser avec moi\n",
      "En descendant au Sud ils jubilaient\n",
      "Les jokeys avaient un jamboree\n",
      "Ils boivent une mixture maison dans un verre d'eau\n",
      "La foule qui danse ici est choquée\n",
      "Et ils ont commencé à jouer cette musique rock and roll\n",
      "Utilises-la à l'ancienne\n",
      "Il y a un backbeat, tu ne peux le perdre\n",
      "Utilises-le à l'ancienneÇa sera de la musique rock\n",
      "Si tu veux danser avec moi\n",
      "Si tu veux danser avec moi\n",
      "Je me fous de les entendre jouer un tango\n",
      "Et dans l'ambiance ils prennent un mambo\n",
      "Il est beaucoup trop tôt pour un congo\n",
      "Alors continue de rocker ce piano\n"
     ]
    }
   ],
   "source": [
    "print(df[\"french_version\"][0])"
   ]
  },
  {
   "cell_type": "code",
   "execution_count": 17,
   "metadata": {},
   "outputs": [
    {
     "name": "stdout",
     "output_type": "stream",
     "text": [
      "1213.678397065421\n",
      "1425.5381336922387\n"
     ]
    }
   ],
   "source": [
    "mean_lenght_song_eng = df[\"original_version\"].str.len().mean()\n",
    "print(mean_lenght_song_eng)\n",
    "mean_lenght_song_fr = df[\"french_version\"].str.len().mean()\n",
    "print(mean_lenght_song_fr)\n"
   ]
  },
  {
   "cell_type": "markdown",
   "metadata": {},
   "source": [
    "Now looking how to get our input/output matching tokens:\n",
    "\n",
    "We look at a preprocessed naive implementation: tokenize the whole song on both sides  using Bert or XLNet(we will see later why it does not work)"
   ]
  },
  {
   "cell_type": "code",
   "execution_count": 8,
   "metadata": {},
   "outputs": [
    {
     "name": "stdout",
     "output_type": "stream",
     "text": [
      "<class 'pandas.core.frame.DataFrame'>\n",
      "Index: 75786 entries, 0 to 99288\n",
      "Data columns (total 2 columns):\n",
      " #   Column        Non-Null Count  Dtype \n",
      "---  ------        --------------  ----- \n",
      " 0   input_token   75786 non-null  object\n",
      " 1   target_token  75786 non-null  object\n",
      "dtypes: object(2)\n",
      "memory usage: 1.7+ MB\n",
      "None\n"
     ]
    }
   ],
   "source": [
    "import pandas as pd\n",
    "\n",
    "path_data = \"Data/Bert.parquet\"\n",
    "#tokenized df\n",
    "df_naive = pd.read_parquet(path_data)\n",
    "print(df_naive.info())"
   ]
  },
  {
   "cell_type": "code",
   "execution_count": 9,
   "metadata": {},
   "outputs": [
    {
     "name": "stdout",
     "output_type": "stream",
     "text": [
      "4038\n",
      "19\n",
      "8911\n",
      "29\n"
     ]
    }
   ],
   "source": [
    "#check min, max sizes for the sequences of both language\n",
    "print(df_naive[\"input_token\"].str.len().max())\n",
    "print(df_naive[\"input_token\"].str.len().min())\n",
    "print(df_naive[\"target_token\"].str.len().max())\n",
    "print(df_naive[\"target_token\"].str.len().min())"
   ]
  },
  {
   "cell_type": "markdown",
   "metadata": {},
   "source": [
    "As we see that tokenizers may be more efficient with english language (hence way less token for the same meaning of phrase) than for french, a problem arrise to separate correctly the same corresponding sequence from the different tokenization.\n",
    "\n",
    " A way to be safe would be to use the whole sequence in both language, but it will then create enormous data stored in memory which is clearly not feasible.For example, just the attention matrix for French would be of size (batch_size × num_heads × 8911 × 8911), not feasible.Furthermore it would involve some kind of gigantic padding for the smaller sequence which is clearly not efficient.\n",
    "\n",
    "Now a way to deal with it is to separate the sequences by their meaning. As we have songs, which are structured, it may be possible. As we see above, each line is separated by a /n which means we do have a way of creating a line-to-line correspondance:"
   ]
  },
  {
   "cell_type": "code",
   "execution_count": 10,
   "metadata": {},
   "outputs": [
    {
     "name": "stdout",
     "output_type": "stream",
     "text": [
      "['chorus', 'Just let me hear some of that rock and roll music', 'Any old way you choose it', \"It's got a back beat, you can't lose it\", 'Any old time you use it', \"It's gotta be rock and roll music\", 'If you wanna dance with me', 'If you wanna dance with me', \"I've got no kick against modern jazz\", 'Unless they try to play it too darn fast', 'And lose the beauty of the melody', 'Until they sound just like a symphony', \"That's why I go for that that rock and roll music\", 'Any old way you choose it', \"It's got a back beat, you can't lose it\", 'Any old time you use it', \"It's gotta be rock and roll music\", 'If you wanna dance with me', 'If you wanna dance with me', 'I took my loved one over across the tracks', 'So she can hear my man awail a sax', 'I must admit they have a rocking band', 'Man, they were blowing like a hurricane', \"That's why I go for that that rock and roll music\", 'Any old way you choose it', \"It's got a back beat, you can't lose it\", 'Any old time you use it', \"It's gotta be rock and roll music\", 'If you wanna dance with me', 'If you wanna dance with me', 'Way down South they had a jubilee', 'The jokey folks they had a jamboree', \"They're drinking home brew from a water cup\", 'The folks dancing there are all shook up', 'And started playing that that rock and roll music', 'Any old time you use it', \"It's got a back beat, you can't lose it\", 'Any old time you use it', \"It's gotta be rock and roll music\", 'If you wanna dance with me', 'If you wanna dance with me', \"Don't care to hear them play a tango\", 'And In The Mood they take a mambo', \"It's way to early for a congo\", 'So keep a rocking that piano']\n",
      "['Laisse moi juste écouter un peu de cette musique rock and roll', \"Choisis-la à l'ancienne\", 'Il y a un backbeat, tu ne peux le perdre', \"Utilises-le à l'ancienneÇa sera de la musique rock\", 'Si tu veux danser avec moi', 'Si tu veux danser avec moi', \"Je n'ai rien contre la musique jazz\", \"Tant qu'ils n'essayent pas de la jouer trop rapidement\", 'Et perdent la beauté de la mélodie', \"Jusqu'à ce que ça sonne comme une symphonie\", \"C'est pour ça que je choisis cette musique rock and roll\", \"Choisis-la à l'ancienne\", 'Il y a un backbeat, tu ne peux le perdre', \"Utilises-le à l'ancienneÇa sera de la musique rock\", 'Si tu veux danser avec moi', 'Si tu veux danser avec moi', \"J'ai emmené ma bien aimée sur la piste\", \"Pour qu'elle puisse entendre le saxophoniste\", \"Je dois admettre qu'ils ont un groupe de rock\", 'Mec, ils défonçaient tout', \"C'est pour ça que je choisis cette musique rock and roll\", \"Choisis-la à l'ancienne\", 'Il y a un backbeat, tu ne peux le perdre', \"Utilises-le à l'ancienneÇa sera de la musique rock\", 'Si tu veux danser avec moi', 'Si tu veux danser avec moi', 'En descendant au Sud ils jubilaient', 'Les jokeys avaient un jamboree', \"Ils boivent une mixture maison dans un verre d'eau\", 'La foule qui danse ici est choquée', 'Et ils ont commencé à jouer cette musique rock and roll', \"Utilises-la à l'ancienne\", 'Il y a un backbeat, tu ne peux le perdre', \"Utilises-le à l'ancienneÇa sera de la musique rock\", 'Si tu veux danser avec moi', 'Si tu veux danser avec moi', 'Je me fous de les entendre jouer un tango', \"Et dans l'ambiance ils prennent un mambo\", 'Il est beaucoup trop tôt pour un congo', 'Alors continue de rocker ce piano']\n",
      "45\n",
      "40\n"
     ]
    }
   ],
   "source": [
    "#e.g.:\n",
    "\n",
    "original_split = df[\"original_version\"][0].split(sep = '\\n')\n",
    "french_split = df[\"french_version\"][0].split(sep = '\\n')\n",
    "print(original_split)\n",
    "print(french_split)\n",
    "print(len(original_split))\n",
    "print(len(french_split))"
   ]
  },
  {
   "cell_type": "markdown",
   "metadata": {},
   "source": [
    "It works well but as we see, some songs do have a difference in there line lengths. To ensure a proper working way, we take out every sentence with less than  16 characters. It ensures we take out all the basic sounds, the informative piece (like chorus above), etc."
   ]
  },
  {
   "cell_type": "code",
   "execution_count": 11,
   "metadata": {},
   "outputs": [
    {
     "name": "stdout",
     "output_type": "stream",
     "text": [
      "['Just let me hear some of that rock and roll music', 'Any old way you choose it', \"It's got a back beat, you can't lose it\", 'Any old time you use it', \"It's gotta be rock and roll music\", 'If you wanna dance with me', 'If you wanna dance with me', \"I've got no kick against modern jazz\", 'Unless they try to play it too darn fast', 'And lose the beauty of the melody', 'Until they sound just like a symphony', \"That's why I go for that that rock and roll music\", 'Any old way you choose it', \"It's got a back beat, you can't lose it\", 'Any old time you use it', \"It's gotta be rock and roll music\", 'If you wanna dance with me', 'If you wanna dance with me', 'I took my loved one over across the tracks', 'So she can hear my man awail a sax', 'I must admit they have a rocking band', 'Man, they were blowing like a hurricane', \"That's why I go for that that rock and roll music\", 'Any old way you choose it', \"It's got a back beat, you can't lose it\", 'Any old time you use it', \"It's gotta be rock and roll music\", 'If you wanna dance with me', 'If you wanna dance with me', 'Way down South they had a jubilee', 'The jokey folks they had a jamboree', \"They're drinking home brew from a water cup\", 'The folks dancing there are all shook up', 'And started playing that that rock and roll music', 'Any old time you use it', \"It's got a back beat, you can't lose it\", 'Any old time you use it', \"It's gotta be rock and roll music\", 'If you wanna dance with me', 'If you wanna dance with me', \"Don't care to hear them play a tango\", 'And In The Mood they take a mambo', \"It's way to early for a congo\", 'So keep a rocking that piano']\n",
      "['Laisse moi juste écouter un peu de cette musique rock and roll', \"Choisis-la à l'ancienne\", 'Il y a un backbeat, tu ne peux le perdre', \"Utilises-le à l'ancienneÇa sera de la musique rock\", 'Si tu veux danser avec moi', 'Si tu veux danser avec moi', \"Je n'ai rien contre la musique jazz\", \"Tant qu'ils n'essayent pas de la jouer trop rapidement\", 'Et perdent la beauté de la mélodie', \"Jusqu'à ce que ça sonne comme une symphonie\", \"C'est pour ça que je choisis cette musique rock and roll\", \"Choisis-la à l'ancienne\", 'Il y a un backbeat, tu ne peux le perdre', \"Utilises-le à l'ancienneÇa sera de la musique rock\", 'Si tu veux danser avec moi', 'Si tu veux danser avec moi', \"J'ai emmené ma bien aimée sur la piste\", \"Pour qu'elle puisse entendre le saxophoniste\", \"Je dois admettre qu'ils ont un groupe de rock\", 'Mec, ils défonçaient tout', \"C'est pour ça que je choisis cette musique rock and roll\", \"Choisis-la à l'ancienne\", 'Il y a un backbeat, tu ne peux le perdre', \"Utilises-le à l'ancienneÇa sera de la musique rock\", 'Si tu veux danser avec moi', 'Si tu veux danser avec moi', 'En descendant au Sud ils jubilaient', 'Les jokeys avaient un jamboree', \"Ils boivent une mixture maison dans un verre d'eau\", 'La foule qui danse ici est choquée', 'Et ils ont commencé à jouer cette musique rock and roll', \"Utilises-la à l'ancienne\", 'Il y a un backbeat, tu ne peux le perdre', \"Utilises-le à l'ancienneÇa sera de la musique rock\", 'Si tu veux danser avec moi', 'Si tu veux danser avec moi', 'Je me fous de les entendre jouer un tango', \"Et dans l'ambiance ils prennent un mambo\", 'Il est beaucoup trop tôt pour un congo', 'Alors continue de rocker ce piano']\n",
      "44\n",
      "40\n"
     ]
    }
   ],
   "source": [
    "original_split = [s for s in original_split if len(s) >= 16]\n",
    "french_split = [s for s in french_split if len(s) >= 16]\n",
    "print(original_split)\n",
    "print(french_split)\n",
    "print(len(original_split))\n",
    "print(len(french_split))"
   ]
  },
  {
   "cell_type": "markdown",
   "metadata": {},
   "source": [
    "We still have some typos. Another way to clean it is maybe to separate the lines when a maj in the middle of a word (e.g. Utilises-le à l'ancienneCa sera de la musique rock\")."
   ]
  },
  {
   "cell_type": "code",
   "execution_count": 12,
   "metadata": {},
   "outputs": [
    {
     "name": "stdout",
     "output_type": "stream",
     "text": [
      "Utilises-le à l'ancienneÇa sera de la musique rock\n",
      "[\"Utilises-le à l'ancienn\", 'e', 'Ç', 'a sera de la musique rock']\n",
      "Utilises-le à l'ancienne\n",
      "Ça sera de la musique rock\n"
     ]
    }
   ],
   "source": [
    "import re\n",
    "print(french_split[3])\n",
    "test = re.split(r'([a-zàâäæáãåāèéêëęėēîïīįíìôōøõóòöœùûüūúÿç])([A-ZÀÂÄÆÁÃÅĀÈÉÊËĘĖĒÎÏĪĮÍÌÔŌØÕÓÒÖŒÙÛÜŪÚŸÇ])', french_split[3])\n",
    "print(test)\n",
    "test2  = re.sub(r'([a-zàâäæáãåāèéêëęėēîïīįíìôōøõóòöœùûüūúÿç])([A-ZÀÂÄÆÁÃÅĀÈÉÊËĘĖĒÎÏĪĮÍÌÔŌØÕÓÒÖŒÙÛÜŪÚŸÇ])', r'\\1\\n\\2', french_split[3])\n",
    "\n",
    "print(test2)"
   ]
  },
  {
   "cell_type": "markdown",
   "metadata": {},
   "source": [
    "Here we go:\n",
    "1. check to add a correct separation of \\n for each typos (both french and English) using a regex\n",
    "2. Separate each sequences into subsequences using the \\n separator\n",
    "3. Take out the sequences smaller than a given size such that it takes out song patterns\n",
    "4. If both song do not have the same length? take them out, they have too many typos\n",
    "5. add it to a new df "
   ]
  },
  {
   "cell_type": "code",
   "execution_count": 13,
   "metadata": {},
   "outputs": [
    {
     "name": "stdout",
     "output_type": "stream",
     "text": [
      "['Ever since I could remember', 'Everything inside of me', 'Just wanted to fit in', 'I was never one for pretenders', 'Everything I tried to be', \"Just wouldn't settle in \", 'If I told you what I was', 'Would you turn your back on me ?And if I seem dangerous', 'Would you be scared ?', 'I get the feeling just because', \"Everything I touch isn't dark enough\", 'If this problem lies in me', \"I'm only a man with a candle to guide me\", \"I'm taking a stand to escape what's inside me\", 'A monster, a monster', \"I'm turning to a monster\", 'A monster, a monster', 'And it keeps getting stronger', 'Can I clear my conscience', \"If I'm different from the rest Do I have to run and hide ? I never said that I want this\", 'This burden came to me', \"And it's made it's home inside\", 'If I told you what I was', 'Would you turn your back on me ?And if I seem dangerous', 'Would you be scared ?', 'I get the feeling just because', \"Everything I touch isn't dark enough\", 'If this problem lies in me', \"I'm only a man with a candle to guide me\", \"I'm taking a stand to escape what's inside me\", 'A monster, a monster', \"I'm turning to a monster\", 'A monster, a monster', 'And it keeps getting stronger (x2)']\n",
      "[\"Aussi longtemps que je m'en souvienne\", \"Tout ce qu'il y a en moi\", \"Voulait juste s'intégrer\", \"Je n'ai jamais été prisé des prétendants\", \"Tout ce que j'essayais d'être\", \"Ne pouvait juste pas s'établir\", 'Si je te disais ce que je suis', 'Me tournerais-tu le dos ?Même si je semblais dangereux', 'Serais-tu apeuré ?', \"J'ai cette impression juste parce que\", \"Tout ce que je touche n'est jamais assez sombre\", 'Si ce problème dort en moi', \"Je ne suis qu'un homme avec une bougie pour me guider\", 'Je prends position pour échapper à ce qui est en moi', 'Un monstre, un monstre', 'Je me change en un monstre', 'Un monstre, un monstre', 'Et ça ne fait que se renforcer', 'Puis-je alléger ma conscience', 'Si je suis différent des autres', \"Ai-je besoin de courir me cacher ?Je n'ai jamais dit que c'était ce que je voulais\", 'Ce fardeau est venu à moi', 'Et a fait de mon corps sa maison', 'Si je te disais ce que je suis', 'Me tournerais-tu le dos ?Même si je semblais dangereux', 'Serais-tu apeuré ?', \"J'ai cette impression juste parce que\", \"Tout ce que je touche n'est jamais assez sombre\", 'Si ce problème dort en moi', \"Je ne suis qu'un homme avec une bougie pour me guider\", 'Je prends position pour échapper à ce qui est en moi', 'Un monstre, un monstre', 'Je me change en un monstre', 'Un monstre, un monstre', 'Et ça ne fait que se renforcer']\n",
      "34\n",
      "35\n"
     ]
    }
   ],
   "source": [
    "original_song = df[\"original_version\"][1]\n",
    "french_song = df[\"french_version\"][1]\n",
    "\n",
    "original_song = re.sub(r'([a-zàâäæáãåāèéêëęėēîïīįíìôōøõóòöœùûüūúÿç])([A-ZÀÂÄÆÁÃÅĀÈÉÊËĘĖĒÎÏĪĮÍÌÔŌØÕÓÒÖŒÙÛÜŪÚŸÇ])', r'\\1\\n\\2', original_song)\n",
    "french_song = re.sub(r'([a-zàâäæáãåāèéêëęėēîïīįíìôōøõóòöœùûüūúÿç])([A-ZÀÂÄÆÁÃÅĀÈÉÊËĘĖĒÎÏĪĮÍÌÔŌØÕÓÒÖŒÙÛÜŪÚŸÇ])', r'\\1\\n\\2', french_song)\n",
    "\n",
    "original_split = original_song.split(sep = '\\n')\n",
    "french_split = french_song.split(sep = '\\n')\n",
    "\n",
    "original_split = [s for s in original_split if len(s) >= 5]\n",
    "french_split = [s for s in french_split if len(s) >= 5]\n",
    "print(original_split)\n",
    "print(french_split)\n",
    "print(len(original_split))\n",
    "print(len(french_split))"
   ]
  },
  {
   "cell_type": "code",
   "execution_count": 39,
   "metadata": {},
   "outputs": [],
   "source": [
    "def split_string(str):\n",
    "    sep_added = re.sub(r'([a-zàâäæáãåāèéêëęėēîïīįíìôōøõóòöœùûüūúÿç])([A-ZÀÂÄÆÁÃÅĀÈÉÊËĘĖĒÎÏĪĮÍÌÔŌØÕÓÒÖŒÙÛÜŪÚŸÇ])', r'\\1\\n\\2', str)\n",
    "    lines = sep_added.split(sep = '\\n')\n",
    "    lines = [s for s in lines if len(s) > 9]\n",
    "    return lines\n",
    "\n",
    "def split_both(list_origin, list_french, origin, french, count_origin):\n",
    "    lines_origin = split_string(origin)\n",
    "    lines_french = split_string(french)\n",
    "    if len(lines_origin)==len(lines_french):\n",
    "        for i in range(len(lines_origin)):\n",
    "            list_origin.append(lines_origin[i])\n",
    "            list_french.append(lines_french[i])\n",
    "    else:\n",
    "        count_origin += len(lines_origin)\n",
    "    return list_origin, list_french, count_origin"
   ]
  },
  {
   "cell_type": "code",
   "execution_count": 42,
   "metadata": {},
   "outputs": [
    {
     "name": "stdout",
     "output_type": "stream",
     "text": [
      "1242609\n",
      "1242609\n",
      "1468432\n"
     ]
    }
   ],
   "source": [
    "list_sequences_origin = df[\"original_version\"]\n",
    "list_sequences_french = df[\"french_version\"]\n",
    "\n",
    "\n",
    "list_origin, list_french = [], []\n",
    "count_taken_out = 0\n",
    "for origin, french in zip(df[\"original_version\"], df[\"french_version\"]):\n",
    "    list_origin, list_french, count_taken_out = split_both(list_origin, list_french, origin, french, count_taken_out)\n",
    "\n",
    "print(len(list_origin))\n",
    "print(len(list_french))\n",
    "print(count_taken_out)\n"
   ]
  },
  {
   "cell_type": "markdown",
   "metadata": {},
   "source": [
    "So we keep 1'242'609 lines from our initial text. We also throw 1'468'432 lines. Which means we throw around ~55% of our data\n",
    "\n",
    "Here are the values:\n",
    "\n",
    "    * len_min = 0: 1590518/2842174 (~55%)\n",
    "    * len_min = 5: 1525856/2842174 (~54%)\n",
    "    * len_min = 8: 1355048/2842174 (~48%)\n",
    "    * len_min = 10: 1242609/1468432 (~45%)\n",
    "    \n",
    "At len_min >10 we create too many cleaning as we have a lot of word that are way smaller in english (4.7 char/word) than in french (7.85 char/word). To make a seemingly logical thinking, we will keep len_min = 10 as it means we keep lines with ~2 words in it in english at min. To make it work even more, a different logic could be applied for french words and english words but it becomes too convoluted"
   ]
  },
  {
   "cell_type": "code",
   "execution_count": 41,
   "metadata": {},
   "outputs": [
    {
     "name": "stdout",
     "output_type": "stream",
     "text": [
      "<class 'pandas.core.frame.DataFrame'>\n",
      "RangeIndex: 1242609 entries, 0 to 1242608\n",
      "Data columns (total 2 columns):\n",
      " #   Column            Non-Null Count    Dtype \n",
      "---  ------            --------------    ----- \n",
      " 0   original_version  1242609 non-null  object\n",
      " 1   french_version    1242609 non-null  object\n",
      "dtypes: object(2)\n",
      "memory usage: 19.0+ MB\n",
      "None\n"
     ]
    }
   ],
   "source": [
    "#create new df from the lists:\n",
    "df_split = pd.DataFrame(list(zip(list_origin, list_french)), \n",
    "                      columns=[\"original_version\", \"french_version\"])\n",
    "\n",
    "print(df_split.info())"
   ]
  },
  {
   "cell_type": "code",
   "execution_count": null,
   "metadata": {},
   "outputs": [],
   "source": []
  }
 ],
 "metadata": {
  "kernelspec": {
   "display_name": "Python 3",
   "language": "python",
   "name": "python3"
  },
  "language_info": {
   "codemirror_mode": {
    "name": "ipython",
    "version": 3
   },
   "file_extension": ".py",
   "mimetype": "text/x-python",
   "name": "python",
   "nbconvert_exporter": "python",
   "pygments_lexer": "ipython3",
   "version": "3.10.0"
  }
 },
 "nbformat": 4,
 "nbformat_minor": 2
}
